{
 "cells": [
  {
   "cell_type": "markdown",
   "id": "8de681da-7b39-40e5-9caf-839f33d8c27d",
   "metadata": {},
   "source": [
    "### Import Modules"
   ]
  },
  {
   "cell_type": "code",
   "execution_count": 1,
   "id": "af1fe1f9-dbe2-4e20-a753-e88bb8d37fbc",
   "metadata": {},
   "outputs": [],
   "source": [
    "from PyPDF2 import PdfReader\n",
    "import io\n",
    "import chromadb\n",
    "from chromadb.config import Settings\n",
    "from chromadb.utils import embedding_functions\n",
    "import re\n",
    "from typing import List, Dict"
   ]
  },
  {
   "cell_type": "markdown",
   "id": "5b7cba44-3acc-4cc0-924a-8d1102f0b16a",
   "metadata": {},
   "source": [
    "### Initialize Chroma"
   ]
  },
  {
   "cell_type": "code",
   "execution_count": 2,
   "id": "a2374fbb-a2ed-479a-8da6-a7119a04cb6c",
   "metadata": {},
   "outputs": [
    {
     "name": "stderr",
     "output_type": "stream",
     "text": [
      "/Users/janakiramm/.pyenv/versions/3.10.13/lib/python3.10/site-packages/huggingface_hub/file_download.py:1132: FutureWarning: `resume_download` is deprecated and will be removed in version 1.0.0. Downloads always resume when possible. If you want to force a new download, use `force_download=True`.\n",
      "  warnings.warn(\n",
      "/Users/janakiramm/.pyenv/versions/3.10.13/lib/python3.10/site-packages/huggingface_hub/file_download.py:1132: FutureWarning: `resume_download` is deprecated and will be removed in version 1.0.0. Downloads always resume when possible. If you want to force a new download, use `force_download=True`.\n",
      "  warnings.warn(\n"
     ]
    }
   ],
   "source": [
    "chroma_client = chromadb.PersistentClient(path=\"../data\")\n",
    "embedding_function = embedding_functions.SentenceTransformerEmbeddingFunction(model_name=\"all-MiniLM-L6-v2\")\n",
    "collection = chroma_client.get_or_create_collection(name=\"products\", embedding_function=embedding_function)"
   ]
  },
  {
   "cell_type": "markdown",
   "id": "c0b37775-c500-41f9-83eb-bb8090b87811",
   "metadata": {},
   "source": [
    "### Helper functions"
   ]
  },
  {
   "cell_type": "markdown",
   "id": "4b1096f9-88e9-4792-8aab-e9cad7bf3472",
   "metadata": {},
   "source": [
    "#### Load PDF"
   ]
  },
  {
   "cell_type": "code",
   "execution_count": 3,
   "id": "02d3f327-8d1d-47a4-8b17-b13dad4376c1",
   "metadata": {},
   "outputs": [],
   "source": [
    "def load_pdf(pdf_file: str, word: int) -> Dict[int, List[str]]:\n",
    "    reader = PdfReader(pdf_file)    \n",
    "    documents = {}\n",
    "    for page_no in range(len(reader.pages)):        \n",
    "        page = reader.pages[page_no]\n",
    "        text = page.extract_text() \n",
    "        text_chunks = get_text_chunks(text, word)\n",
    "        documents[page_no] = text_chunks\n",
    "    return documents"
   ]
  },
  {
   "cell_type": "markdown",
   "id": "1a480b7f-ad32-49aa-90aa-a6601cef33bf",
   "metadata": {},
   "source": [
    "#### Generate Chunks based on each sentence"
   ]
  },
  {
   "cell_type": "code",
   "execution_count": 4,
   "id": "23b461da-97f5-4513-a6b9-5e20692edc67",
   "metadata": {},
   "outputs": [],
   "source": [
    "def get_text_chunks(text: str, word_limit: int) -> List[str]:\n",
    "    sentences = re.split(r'(?<!\\w\\.\\w.)(?<![A-Z][a-z]\\.)(?<=\\.|\\?)\\s', text)\n",
    "    chunks = []\n",
    "    current_chunk = []\n",
    "\n",
    "    for sentence in sentences:\n",
    "        words = sentence.split()\n",
    "        if len(\" \".join(current_chunk + words)) <= word_limit:\n",
    "            current_chunk.extend(words)\n",
    "        else:\n",
    "            chunks.append(\" \".join(current_chunk))\n",
    "            current_chunk = words\n",
    "\n",
    "    if current_chunk:\n",
    "        chunks.append(\" \".join(current_chunk))\n",
    "\n",
    "    return chunks"
   ]
  },
  {
   "cell_type": "markdown",
   "id": "de3e27c8-74db-4efa-95ff-7df9f8f8c92b",
   "metadata": {},
   "source": [
    "#### Add the chunks as vectors to ChromaDB"
   ]
  },
  {
   "cell_type": "code",
   "execution_count": 5,
   "id": "2a4173ea-363e-4642-96ce-967b5d21df75",
   "metadata": {},
   "outputs": [],
   "source": [
    "def index_document(pdf_file: str, word: int = 300) -> None:    \n",
    "    docs = load_pdf(pdf_file, word)    \n",
    "\n",
    "    docs_strings = []  \n",
    "    ids = []  \n",
    "    metadatas = []  \n",
    "    id = 0  \n",
    "        \n",
    "    for page_no in docs.keys():\n",
    "        for doc in docs[page_no]:        \n",
    "            docs_strings.append(doc)                        \n",
    "            metadatas.append({'page_no': page_no,\"pdf_name\": pdf_file})\n",
    "            ids.append(id)\n",
    "            id += 1\n",
    "\n",
    "    collection.add(\n",
    "        ids=[str(id) for id in ids],  \n",
    "        documents=docs_strings,  \n",
    "        metadatas=metadatas,  \n",
    "    )    "
   ]
  },
  {
   "cell_type": "markdown",
   "id": "b367afd2-1538-4b08-853e-1e7e58501601",
   "metadata": {},
   "source": [
    "### Index the PDF"
   ]
  },
  {
   "cell_type": "code",
   "execution_count": 6,
   "id": "2e92e6d7-aa8f-4e75-9714-fbaf944527d0",
   "metadata": {},
   "outputs": [
    {
     "name": "stderr",
     "output_type": "stream",
     "text": [
      "Add of existing embedding ID: 0\n",
      "Add of existing embedding ID: 1\n",
      "Add of existing embedding ID: 2\n",
      "Add of existing embedding ID: 3\n",
      "Add of existing embedding ID: 4\n",
      "Add of existing embedding ID: 5\n",
      "Add of existing embedding ID: 6\n",
      "Add of existing embedding ID: 7\n",
      "Add of existing embedding ID: 8\n",
      "Add of existing embedding ID: 9\n",
      "Add of existing embedding ID: 10\n",
      "Add of existing embedding ID: 11\n",
      "Add of existing embedding ID: 12\n",
      "Add of existing embedding ID: 13\n",
      "Add of existing embedding ID: 14\n",
      "Add of existing embedding ID: 15\n",
      "Add of existing embedding ID: 16\n",
      "Add of existing embedding ID: 17\n",
      "Add of existing embedding ID: 18\n",
      "Add of existing embedding ID: 19\n",
      "Add of existing embedding ID: 20\n",
      "Add of existing embedding ID: 21\n",
      "Add of existing embedding ID: 22\n",
      "Add of existing embedding ID: 23\n",
      "Insert of existing embedding ID: 0\n",
      "Insert of existing embedding ID: 1\n",
      "Insert of existing embedding ID: 2\n",
      "Insert of existing embedding ID: 3\n",
      "Insert of existing embedding ID: 4\n",
      "Insert of existing embedding ID: 5\n",
      "Insert of existing embedding ID: 6\n",
      "Insert of existing embedding ID: 7\n",
      "Insert of existing embedding ID: 8\n",
      "Insert of existing embedding ID: 9\n",
      "Insert of existing embedding ID: 10\n",
      "Insert of existing embedding ID: 11\n",
      "Insert of existing embedding ID: 12\n",
      "Insert of existing embedding ID: 13\n",
      "Insert of existing embedding ID: 14\n",
      "Insert of existing embedding ID: 15\n",
      "Insert of existing embedding ID: 16\n",
      "Insert of existing embedding ID: 17\n",
      "Insert of existing embedding ID: 18\n",
      "Insert of existing embedding ID: 19\n",
      "Insert of existing embedding ID: 20\n",
      "Insert of existing embedding ID: 21\n",
      "Insert of existing embedding ID: 22\n",
      "Insert of existing embedding ID: 23\n"
     ]
    }
   ],
   "source": [
    "DOC=\"../data/datasheet.pdf\"\n",
    "index_document(DOC)"
   ]
  },
  {
   "cell_type": "markdown",
   "id": "6edfab04-d187-49d7-88f7-44ef418cbb47",
   "metadata": {},
   "source": [
    "### Perform semantic search"
   ]
  },
  {
   "cell_type": "code",
   "execution_count": 7,
   "id": "34472b95-ed41-4846-bb13-a48a79de7710",
   "metadata": {},
   "outputs": [],
   "source": [
    "def search(query):\n",
    "    vector = embedding_function([query])\n",
    "    results = collection.query(    \n",
    "        query_embeddings=vector,\n",
    "        n_results=5,\n",
    "        include=[\"documents\"]\n",
    "    )\n",
    "    res = \" \\n\".join(str(item) for item in results['documents'][0])\n",
    "    return res"
   ]
  },
  {
   "cell_type": "code",
   "execution_count": 8,
   "id": "c7bcb1a4-5bf2-46a6-b02d-bb1a4ece303b",
   "metadata": {},
   "outputs": [],
   "source": [
    "res=search(\"Aurora X Pro display\")"
   ]
  },
  {
   "cell_type": "code",
   "execution_count": 9,
   "id": "1aa43645-7228-46ab-81b9-0a2724d47c1a",
   "metadata": {},
   "outputs": [
    {
     "name": "stdout",
     "output_type": "stream",
     "text": [
      "Featuring a sleek and modern design, the Aurora X Pro boasts a stunning 6.7 -inch OLED display with a 120Hz refresh rate, providing an immersive viewing experience for videos, games, and more. \n",
      "Designed with the user in mind, the Aurora X Pro offers a seamless and intuitive user experience. The device runs on the latest version of the AuroraOS, offering a clean and customizable interface. \n",
      "The device is powered by the latest Octa -core processor, ensuring smooth multitasking and exceptional performance, even with the most demanding apps. Beyond its powerful hardware, the Aurora X Pro excels in photography, equipped with a state - of-the-art triple -camera system. \n",
      "With advanced AI features, including night mode and portrait enhancements, the Aurora X Pro is your perfect companion for capturing life’s moments. \n",
      "Aurora X Pro The Aurora X Pro is a cutting -edge smartphone designed for tech enthusiasts and professionals who demand the best in mobile technology.\n"
     ]
    }
   ],
   "source": [
    "print(res)"
   ]
  },
  {
   "cell_type": "code",
   "execution_count": null,
   "id": "159ca29f-9ac8-4513-a322-e32eab738482",
   "metadata": {},
   "outputs": [],
   "source": []
  }
 ],
 "metadata": {
  "kernelspec": {
   "display_name": "Python 3 (ipykernel)",
   "language": "python",
   "name": "python3"
  },
  "language_info": {
   "codemirror_mode": {
    "name": "ipython",
    "version": 3
   },
   "file_extension": ".py",
   "mimetype": "text/x-python",
   "name": "python",
   "nbconvert_exporter": "python",
   "pygments_lexer": "ipython3",
   "version": "3.10.13"
  }
 },
 "nbformat": 4,
 "nbformat_minor": 5
}
