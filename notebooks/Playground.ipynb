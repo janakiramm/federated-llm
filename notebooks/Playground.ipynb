{
 "cells": [
  {
   "cell_type": "markdown",
   "id": "fb7b84e1-55a7-4150-865c-c07f1b2e6652",
   "metadata": {},
   "source": [
    "### Import modules"
   ]
  },
  {
   "cell_type": "code",
   "execution_count": null,
   "id": "b4fa34ea-629f-4a54-a572-40da15365947",
   "metadata": {},
   "outputs": [],
   "source": [
    "import chromadb\n",
    "from chromadb.config import Settings\n",
    "from chromadb.utils import embedding_functions\n",
    "import json\n",
    "from openai import OpenAI"
   ]
  },
  {
   "cell_type": "markdown",
   "id": "379c4d95-f15c-4f13-bd34-c3c8e91bca49",
   "metadata": {},
   "source": [
    "### Import tools (API client)"
   ]
  },
  {
   "cell_type": "code",
   "execution_count": null,
   "id": "b52395de-cbe0-4e2f-9f04-0cedf31f966f",
   "metadata": {},
   "outputs": [],
   "source": [
    "from tools import (\n",
    "    get_top_selling_products,\n",
    "    get_top_categories,\n",
    "    get_sales_trends,\n",
    "    get_revenue_by_category\n",
    ")"
   ]
  },
  {
   "cell_type": "markdown",
   "id": "1f0e8d5a-95fd-47a4-83b8-0904167ab647",
   "metadata": {},
   "source": [
    "### Initialize Cloud LLM"
   ]
  },
  {
   "cell_type": "code",
   "execution_count": null,
   "id": "1aef7b86-a593-404b-8d36-b28e755cc1ba",
   "metadata": {},
   "outputs": [],
   "source": [
    "cloud_model=\"gpt-4o\"\n",
    "cloud_llm = OpenAI()"
   ]
  },
  {
   "cell_type": "markdown",
   "id": "ec263723-f41b-42d3-8c99-fa116abc055e",
   "metadata": {},
   "source": [
    "### Initialize Edge LLM"
   ]
  },
  {
   "cell_type": "code",
   "execution_count": null,
   "id": "ffedc3de-20d8-443a-aeb2-5d2748d9cffa",
   "metadata": {},
   "outputs": [],
   "source": [
    "edge_model=\"phi3:mini\"\n",
    "edge_llm = OpenAI(\n",
    "    base_url='http://10.0.0.125:11434/v1/',\n",
    "    api_key='_',\n",
    ")"
   ]
  },
  {
   "cell_type": "markdown",
   "id": "71e54388-300d-42b5-9f1f-c8705ad4d732",
   "metadata": {},
   "source": [
    "### Initialize Vector DB"
   ]
  },
  {
   "cell_type": "code",
   "execution_count": null,
   "id": "7edb3f6f-23b7-41ae-aea2-5ab11dc67c24",
   "metadata": {},
   "outputs": [],
   "source": [
    "chroma_client = chromadb.PersistentClient(path=\"./data\")\n",
    "embedding_function = embedding_functions.SentenceTransformerEmbeddingFunction(model_name=\"all-MiniLM-L6-v2\")\n",
    "collection = chroma_client.get_or_create_collection(name=\"products\", embedding_function=embedding_function)"
   ]
  },
  {
   "cell_type": "markdown",
   "id": "eefc4071-a7b9-4ed4-9498-4d5cefc932af",
   "metadata": {},
   "source": [
    "### Helper Functions"
   ]
  },
  {
   "cell_type": "markdown",
   "id": "65520b76-db1d-4764-921f-fe41c3c164eb",
   "metadata": {},
   "source": [
    "#### Map tools to prompt (Cloud LLM)"
   ]
  },
  {
   "cell_type": "code",
   "execution_count": null,
   "id": "6711de3c-f9c3-4790-a20e-7b89eeb84679",
   "metadata": {},
   "outputs": [],
   "source": [
    "def map_tools(prompt):\n",
    "    tools = [\n",
    "        {\n",
    "            \"type\": \"function\",\n",
    "            \"function\": {\n",
    "                \"name\": \"get_top_selling_products\",\n",
    "                \"description\": \"Retrieve top-selling products for a specified period\",\n",
    "                \"parameters\": {\n",
    "                    \"type\": \"object\",\n",
    "                    \"properties\": {\n",
    "                        \"start_date\": {\n",
    "                            \"type\": \"string\",\n",
    "                            \"description\": \"The start date for the period (YYYY-MM-DD)\"\n",
    "                        },\n",
    "                        \"end_date\": {\n",
    "                            \"type\": \"string\",\n",
    "                            \"description\": \"The end date for the period (YYYY-MM-DD)\"\n",
    "                        }\n",
    "                    },\n",
    "                    \"required\": [\"start_date\", \"end_date\"]\n",
    "                }\n",
    "            }\n",
    "        },\n",
    "        {\n",
    "            \"type\": \"function\",\n",
    "            \"function\": {\n",
    "                \"name\": \"get_top_categories\",\n",
    "                \"description\": \"Retrieve top-selling categories for a specified period\",\n",
    "                \"parameters\": {\n",
    "                    \"type\": \"object\",\n",
    "                    \"properties\": {\n",
    "                        \"start_date\": {\n",
    "                            \"type\": \"string\",\n",
    "                            \"description\": \"The start date for the period (YYYY-MM-DD)\"\n",
    "                        },\n",
    "                        \"end_date\": {\n",
    "                            \"type\": \"string\",\n",
    "                            \"description\": \"The end date for the period (YYYY-MM-DD)\"\n",
    "                        }\n",
    "                    },\n",
    "                    \"required\": [\"start_date\", \"end_date\"]\n",
    "                }\n",
    "            }\n",
    "        },\n",
    "        {\n",
    "            \"type\": \"function\",\n",
    "            \"function\": {\n",
    "                \"name\": \"get_sales_trends\",\n",
    "                \"description\": \"Retrieve sales trends over a specified period\",\n",
    "                \"parameters\": {\n",
    "                    \"type\": \"object\",\n",
    "                    \"properties\": {\n",
    "                        \"start_date\": {\n",
    "                            \"type\": \"string\",\n",
    "                            \"description\": \"The start date for the period (YYYY-MM-DD)\"\n",
    "                        },\n",
    "                        \"end_date\": {\n",
    "                            \"type\": \"string\",\n",
    "                            \"description\": \"The end date for the period (YYYY-MM-DD)\"\n",
    "                        }\n",
    "                    },\n",
    "                    \"required\": [\"start_date\", \"end_date\"]\n",
    "                }\n",
    "            }\n",
    "        },\n",
    "        {\n",
    "            \"type\": \"function\",\n",
    "            \"function\": {\n",
    "                \"name\": \"get_revenue_by_category\",\n",
    "                \"description\": \"Retrieve the revenue generated by each category over a specified period\",\n",
    "                \"parameters\": {\n",
    "                    \"type\": \"object\",\n",
    "                    \"properties\": {\n",
    "                        \"start_date\": {\n",
    "                            \"type\": \"string\",\n",
    "                            \"description\": \"The start date for the period (YYYY-MM-DD)\"\n",
    "                        },\n",
    "                        \"end_date\": {\n",
    "                            \"type\": \"string\",\n",
    "                            \"description\": \"The end date for the period (YYYY-MM-DD)\"\n",
    "                        }\n",
    "                    },\n",
    "                    \"required\": [\"start_date\", \"end_date\"]\n",
    "                }\n",
    "            }\n",
    "        }\n",
    "    ]\n",
    "\n",
    "    messages = [{\"role\": \"user\", \"content\": prompt}]\n",
    "    response = cloud_llm.chat.completions.create(\n",
    "        model=cloud_model,\n",
    "        messages=messages,\n",
    "        tools=tools,\n",
    "        tool_choice=\"auto\"\n",
    "    )\n",
    "    \n",
    "    # Ensure response has valid tool_calls\n",
    "    response_message = response.choices[0].message\n",
    "    tool_calls = getattr(response_message, 'tool_calls', None)\n",
    "\n",
    "    functions = []\n",
    "    if tool_calls:\n",
    "        for tool in tool_calls:\n",
    "            function_name = tool.function.name\n",
    "            arguments = json.loads(tool.function.arguments)\n",
    "            functions.append({\n",
    "                \"function_name\": function_name,\n",
    "                \"arguments\": arguments\n",
    "            })\n",
    "\n",
    "    return functions"
   ]
  },
  {
   "cell_type": "markdown",
   "id": "e22e9bd5-999c-40a6-b455-ee237076629e",
   "metadata": {},
   "source": [
    "#### Execute tools locally (Invoke API)"
   ]
  },
  {
   "cell_type": "code",
   "execution_count": null,
   "id": "cad50e34-9cf6-4986-ba79-a301d2a2f25b",
   "metadata": {},
   "outputs": [],
   "source": [
    "import json\n",
    "\n",
    "def execute_tools(functions):\n",
    "    local_functions = {\n",
    "        \"get_top_selling_products\": get_top_selling_products,\n",
    "        \"get_top_categories\": get_top_categories,\n",
    "        \"get_sales_trends\": get_sales_trends,\n",
    "        \"get_revenue_by_category\": get_revenue_by_category\n",
    "    }\n",
    "\n",
    "    combined_results = []\n",
    "    for detail in functions:\n",
    "        function_name = detail[\"function_name\"]\n",
    "        arguments = detail[\"arguments\"]\n",
    "        function_result = local_functions[function_name](**arguments)\n",
    "        if isinstance(function_result, list):\n",
    "            combined_results.extend(function_result)\n",
    "        else:\n",
    "            combined_results.append(function_result)\n",
    "    return combined_results"
   ]
  },
  {
   "cell_type": "markdown",
   "id": "762fd701-703d-46a4-a572-2c735f2a9e67",
   "metadata": {},
   "source": [
    "#### Retrieve from Context"
   ]
  },
  {
   "cell_type": "code",
   "execution_count": null,
   "id": "87192cf1-e427-4f55-b0f1-d96c3682ce9a",
   "metadata": {},
   "outputs": [],
   "source": [
    "def retriever(query):\n",
    "    vector = embedding_function([query])\n",
    "    results = collection.query(    \n",
    "        query_embeddings=vector,\n",
    "        n_results=5,\n",
    "        include=[\"documents\"]\n",
    "    )\n",
    "    res = \" \\n\".join(str(item) for item in results['documents'][0])\n",
    "    return res"
   ]
  },
  {
   "cell_type": "code",
   "execution_count": null,
   "id": "89163ce3-b605-4c7f-bac7-264148ee4242",
   "metadata": {},
   "outputs": [],
   "source": [
    "retriever(\"connectivity options of Nimbus Book\")"
   ]
  },
  {
   "cell_type": "markdown",
   "id": "0af74b74-555d-4906-a44e-15b4e1fba804",
   "metadata": {},
   "source": [
    "#### Generate answer (Edge LLM)"
   ]
  },
  {
   "cell_type": "code",
   "execution_count": null,
   "id": "f4f58b8b-1342-40ac-8055-951d538a5cc9",
   "metadata": {},
   "outputs": [],
   "source": [
    "def generate_response(prompt,context):\n",
    "    input_text = (\n",
    "        \"Based on the below context, respond with a concise answer in a single sentence. If you don't find the answer within the context, say I do not know. Don't repeat the question\\n\\n\"\n",
    "        f\"{context}\\n\\n\"\n",
    "        f\"{prompt}\"\n",
    "    )\n",
    "    response = edge_llm.chat.completions.create(\n",
    "        model=edge_model,\n",
    "        messages=[\n",
    "            {\"role\": \"user\", \"content\": input_text},\n",
    "        ],\n",
    "        max_tokens=150,\n",
    "        temperature=0\n",
    "    )\n",
    "\n",
    "    return response.choices[0].message.content.strip()"
   ]
  },
  {
   "cell_type": "markdown",
   "id": "1671f622-f337-49bf-b684-a0b80ff7a417",
   "metadata": {},
   "source": [
    "#### Test helper functions"
   ]
  },
  {
   "cell_type": "code",
   "execution_count": null,
   "id": "d734d959-f0ea-40fe-bffe-572f05065edb",
   "metadata": {},
   "outputs": [],
   "source": [
    "tools=map_tools(\"What was the top selling product in Q2 based on revenue?\")"
   ]
  },
  {
   "cell_type": "code",
   "execution_count": null,
   "id": "0c3084c5-fdeb-496c-8362-5de7224b19df",
   "metadata": {},
   "outputs": [],
   "source": [
    "tools"
   ]
  },
  {
   "cell_type": "code",
   "execution_count": null,
   "id": "2b43133c-627c-46e4-b52b-c29a4abf6e03",
   "metadata": {},
   "outputs": [],
   "source": [
    "tool_output=execute_tools(tools)"
   ]
  },
  {
   "cell_type": "code",
   "execution_count": null,
   "id": "c4913fb1-ccd1-465f-ac41-13b72f00b214",
   "metadata": {},
   "outputs": [],
   "source": [
    "#tool_output"
   ]
  },
  {
   "cell_type": "markdown",
   "id": "58583b12-a30d-427a-9aee-f68564a3a1f0",
   "metadata": {},
   "source": [
    "### Agent to federate the LMs"
   ]
  },
  {
   "cell_type": "code",
   "execution_count": null,
   "id": "b53f578a-e966-465e-becc-197b8314e03d",
   "metadata": {},
   "outputs": [],
   "source": [
    "def agent(prompt):\n",
    "    tools = map_tools(prompt)\n",
    "    \n",
    "    if tools:    \n",
    "        tool_output = execute_tools(tools)\n",
    "        context = json.dumps(tool_output)       \n",
    "    else:\n",
    "        context = retriever(prompt)\n",
    "        \n",
    "    response = generate_response(prompt, context)\n",
    "    return response"
   ]
  },
  {
   "cell_type": "code",
   "execution_count": null,
   "id": "766ccdba-3b2d-4f40-962c-93ee4149ec3a",
   "metadata": {},
   "outputs": [],
   "source": [
    "agent(\"What was the top selling product in June based on revenue?\")"
   ]
  },
  {
   "cell_type": "code",
   "execution_count": null,
   "id": "adf05c28-6fa5-4f74-a23a-fac1c00627e1",
   "metadata": {},
   "outputs": [],
   "source": [
    "agent(\"What is the CPU of Nimbus Book?\")"
   ]
  }
 ],
 "metadata": {
  "kernelspec": {
   "display_name": "Python 3 (ipykernel)",
   "language": "python",
   "name": "python3"
  },
  "language_info": {
   "codemirror_mode": {
    "name": "ipython",
    "version": 3
   },
   "file_extension": ".py",
   "mimetype": "text/x-python",
   "name": "python",
   "nbconvert_exporter": "python",
   "pygments_lexer": "ipython3",
   "version": "3.10.13"
  }
 },
 "nbformat": 4,
 "nbformat_minor": 5
}
